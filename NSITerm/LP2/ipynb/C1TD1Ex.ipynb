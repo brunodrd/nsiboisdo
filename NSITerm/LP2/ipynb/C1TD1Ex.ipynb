{
 "cells": [
  {
   "cell_type": "markdown",
   "id": "earned-taste",
   "metadata": {},
   "source": [
    "TD récursivité: Rendu de monnaie\n",
    "==========================="
   ]
  },
  {
   "cell_type": "markdown",
   "id": "adjusted-dress",
   "metadata": {},
   "source": [
    "*Pour travailler à la maison, sans installation de Jupyter, ouvrir le notebook avec basthon, depuis* [cette adresse](https://notebook.basthon.fr/?from=https://nsiboisdo.bdrd.fr/NSITerm/LP2/ipynb/C1TD1Ex.ipynb)"
   ]
  },
  {
   "cell_type": "markdown",
   "id": "thick-coast",
   "metadata": {},
   "source": [
    "Le problème du rendu de monnaie est un problème d'algorithmique. Il s'énonce de la façon suivante: étant donné un système de monnaie (pièces et billets), comment rendre une somme donnée de façon optimale, c'est-à-dire avec le nombre minimal de pièces et billets ?\n",
    "\n",
    "Par exemple, la meilleure façon de rendre 7 euros est de rendre un billet de cinq et une pièce de deux, même si d'autres façons existent (rendre 7 pièces de un euro, par exemple). \n",
    "\n",
    "Cependant pour certains systèmes de monnaie dits *canoniques*, l'**algorithme glouton** est optimal, c'est-à-dire qu'il suffit de rendre systématiquement la pièce ou le billet de valeur maximale — ce tant qu'il reste quelque chose à rendre. C'est la méthode employée en pratique, ce qui se justifie car la quasi-totalité des systèmes ayant cours dans le monde sont canoniques. \n",
    "\n",
    "[Source: wikipedia](https://fr.wikipedia.org/wiki/Probl%C3%A8me_du_rendu_de_monnaie)"
   ]
  },
  {
   "cell_type": "markdown",
   "id": "chicken-blame",
   "metadata": {},
   "source": [
    "## Modélisation du problème"
   ]
  },
  {
   "cell_type": "markdown",
   "id": "medical-header",
   "metadata": {},
   "source": [
    "On considère un système monétaire canonique $S=\\{p_1, p_2, \\cdots, p_n\\}$, avec $p_1>p_2>\\cdots >p_n$. On appelle $v$ la valeur à rendre et $sol$ la solution du problème.  \n",
    "Le problème du rendu de monnaie peut être vu comme un problème de choix de pièces (billets) ou ... pas, suivant la valeur à rendre.  \n",
    "Si la valeur $v$ à rendre est nulle, on a terminé, il suffit de renvoyer la solution. Dans le cas contraire, \n",
    "on compare $v$ à la valeur de la i-ème pièce $S\\left[i\\right]$:  \n",
    "\n",
    "* si la valeur à rendre est plus petite que la valeur de la i-ème pièce, on ne peut évidemment pas choisir cette dernière; il faudra essayer de **rendre la monnaie** avec la prochaine pièce;\n",
    "* sinon, la pièce peut être choisie et doit être ajoutée à la solution et on doit essayer de **rendre la monnaie**  sur $v-S\\left[ i\\right]$.\n",
    "\n",
    "!!! question \"A faire\"\n",
    "    On adopte une démarche récursive pour résoudre ce problème. En utilisant la description précédente:  \n",
    "    \n",
    "    * identifier le cas de base et le ou les cas récursifs;\n",
    "    * coder une fonction `rendu` dont la signature est donnée dans la cellule suivante."
   ]
  },
  {
   "cell_type": "markdown",
   "id": "described-frequency",
   "metadata": {},
   "source": [
    "## Codage"
   ]
  },
  {
   "cell_type": "code",
   "execution_count": 14,
   "id": "plain-groove",
   "metadata": {},
   "outputs": [],
   "source": [
    "def rendu(v, sol, i):\n",
    "    \"\"\"\n",
    "    v (entier): valeur à rendre;\n",
    "    sol (liste python): la solution\n",
    "    i (entier): index de la pièce à tester\n",
    "    \"\"\"\n",
    "    if ... # Cas de base\n",
    "    ...\n",
    "    else:\n",
    "        ... # Cas récursifs"
   ]
  },
  {
   "cell_type": "markdown",
   "id": "measured-dominican",
   "metadata": {},
   "source": [
    "## Tests"
   ]
  },
  {
   "cell_type": "markdown",
   "id": "seeing-strain",
   "metadata": {},
   "source": [
    "Tester votre fonction"
   ]
  },
  {
   "cell_type": "code",
   "execution_count": 15,
   "id": "invisible-graduation",
   "metadata": {},
   "outputs": [],
   "source": [
    "S = [500, 200, 100, 50, 20, 10, 5, 2, 1]\n",
    "assert rendu(0, [], 0) == []\n",
    "assert rendu(37, [], 0) == [20, 10, 5, 2]\n",
    "assert rendu(300, [], 0) == [200, 100]"
   ]
  }
 ],
 "metadata": {
  "kernelspec": {
   "display_name": "Python 3",
   "language": "python",
   "name": "python3"
  },
  "language_info": {
   "codemirror_mode": {
    "name": "ipython",
    "version": 3
   },
   "file_extension": ".py",
   "mimetype": "text/x-python",
   "name": "python",
   "nbconvert_exporter": "python",
   "pygments_lexer": "ipython3",
   "version": "3.8.8"
  }
 },
 "nbformat": 4,
 "nbformat_minor": 5
}
